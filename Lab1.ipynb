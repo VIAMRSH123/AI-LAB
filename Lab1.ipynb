{
  "nbformat": 4,
  "nbformat_minor": 0,
  "metadata": {
    "colab": {
      "provenance": [],
      "authorship_tag": "ABX9TyNoSBaVRJMfNbstVGIfnB10",
      "include_colab_link": true
    },
    "kernelspec": {
      "name": "python3",
      "display_name": "Python 3"
    },
    "language_info": {
      "name": "python"
    }
  },
  "cells": [
    {
      "cell_type": "markdown",
      "metadata": {
        "id": "view-in-github",
        "colab_type": "text"
      },
      "source": [
        "<a href=\"https://colab.research.google.com/github/VIAMRSH123/AI-LAB/blob/main/Lab1.ipynb\" target=\"_parent\"><img src=\"https://colab.research.google.com/assets/colab-badge.svg\" alt=\"Open In Colab\"/></a>"
      ]
    },
    {
      "cell_type": "code",
      "execution_count": 1,
      "metadata": {
        "colab": {
          "base_uri": "https://localhost:8080/"
        },
        "id": "ND14ANrZyC0Z",
        "outputId": "b2be0492-95fb-4cfd-a042-6aa777e9c0cc"
      },
      "outputs": [
        {
          "output_type": "stream",
          "name": "stdout",
          "text": [
            "TIC_TAC_TOE\n",
            "- | - | -\n",
            "- | - | -\n",
            "- | - | -\n",
            "X's turn.\n",
            "Choose a position from 1-9: 7\n",
            "- | - | -\n",
            "- | - | -\n",
            "X | - | -\n",
            "O's turn.\n",
            "- | - | O\n",
            "- | - | -\n",
            "X | - | -\n",
            "X's turn.\n",
            "Choose a position from 1-9: 8\n",
            "- | - | O\n",
            "- | - | -\n",
            "X | X | -\n",
            "O's turn.\n",
            "- | - | O\n",
            "- | - | O\n",
            "X | X | -\n",
            "X's turn.\n",
            "Choose a position from 1-9: 9\n",
            "- | - | O\n",
            "- | - | O\n",
            "X | X | X\n",
            "X wins!\n"
          ]
        }
      ],
      "source": [
        "import random\n",
        "print(\"TIC_TAC_TOE\")\n",
        "board = [\"-\", \"-\", \"-\",\n",
        "         \"-\", \"-\", \"-\",\n",
        "         \"-\", \"-\", \"-\"]\n",
        "\n",
        "def print_board():\n",
        "    print(board[0] + \" | \" + board[1] + \" | \" + board[2])\n",
        "    print(board[3] + \" | \" + board[4] + \" | \" + board[5])\n",
        "    print(board[6] + \" | \" + board[7] + \" | \" + board[8])\n",
        "\n",
        "def take_turn(player):\n",
        "    print(player + \"'s turn.\")\n",
        "    position = input(\"Choose a position from 1-9: \")\n",
        "    while position not in [\"1\", \"2\", \"3\", \"4\", \"5\", \"6\", \"7\", \"8\", \"9\"]:\n",
        "        position = input(\"Invalid input. Choose a position from 1-9: \")\n",
        "    position = int(position) - 1  # Convert input to integer and adjust for 0-based index\n",
        "    while board[position] != \"-\":\n",
        "        position = int(input(\"Position already taken. Choose a different position: \")) - 1 # Adjust for 0-based index\n",
        "    board[position] = player\n",
        "    print_board()\n",
        "\n",
        "def take_turn_computer(computer):\n",
        "    print(computer + \"'s turn.\")\n",
        "    position = random.randint(0, 8)\n",
        "    while board[position] != \"-\":\n",
        "        position = random.randint(0, 8)\n",
        "    board[position] = computer\n",
        "    print_board()\n",
        "\n",
        "def check_game_over():\n",
        "\n",
        "    if (board[0] == board[1] == board[2] != \"-\") or \\\n",
        "       (board[3] == board[4] == board[5] != \"-\") or \\\n",
        "       (board[6] == board[7] == board[8] != \"-\") or \\\n",
        "       (board[0] == board[3] == board[6] != \"-\") or \\\n",
        "       (board[1] == board[4] == board[7] != \"-\") or \\\n",
        "       (board[2] == board[5] == board[8] != \"-\") or \\\n",
        "       (board[0] == board[4] == board[8] != \"-\") or \\\n",
        "       (board[2] == board[4] == board[6] != \"-\"):\n",
        "        return \"win\"\n",
        "\n",
        "    elif \"-\" not in board:\n",
        "      return \"tie\"\n",
        "\n",
        "    else:\n",
        "      return \"play\"\n",
        "\n",
        "def play_game():\n",
        "  print_board()\n",
        "  player = \"X\"\n",
        "  computer = \"O\"\n",
        "  game_over = False\n",
        "  while (game_over!=True):\n",
        "    take_turn(player)\n",
        "    result = check_game_over()\n",
        "    if result == \"win\":\n",
        "      print(player + \" wins!\")\n",
        "      game_over = True\n",
        "    elif result == \"tie\":\n",
        "      print(\"It's a tie!\")\n",
        "      game_over = True\n",
        "    else:\n",
        "        take_turn_computer(computer)\n",
        "        result = check_game_over()\n",
        "        if result == \"win\":\n",
        "          print(computer + \" wins!\")\n",
        "          game_over = True\n",
        "        elif result == \"tie\":\n",
        "          print(\"It's a tie!\")\n",
        "          game_over = True\n",
        "\n",
        "\n",
        "play_game()."
      ]
    },
    {
      "cell_type": "code",
      "source": [
        "print(\"Vacuum Cleaner\")\n",
        "\n",
        "A=[1,1] # Room A: Vacuum present, Dirt present\n",
        "B=[0,1] # Room B: Vacuum absent, Dirt present\n",
        "\n",
        "def cleanCheck(A,B):\n",
        "  if(A[1] == 0 and B[1] == 0):\n",
        "    return True\n",
        "  else:\n",
        "    return False\n",
        "def clean_room():\n",
        "  print(\"Initial State: Room A\",A,\", Room B\",B)\n",
        "\n",
        "  while not cleanCheck(A,B):\n",
        "\n",
        "    if(A[0] == 1):\n",
        "      A[1] = 0\n",
        "      A[0] = 0\n",
        "      B[0] = 1\n",
        "      print(\"Vacuum cleaner moved to room B. Room A cleaned.\")\n",
        "\n",
        "    elif(B[0] == 1):\n",
        "      B[1] = 0\n",
        "      B[0] = 0\n",
        "      A[0] = 1\n",
        "      print(\"Vacuum cleaner moved to room A. Room B cleaned.\")\n",
        "\n",
        "  print(\"Final State: Room A\",A,\", Room B\",B)\n",
        "\n",
        "clean_room()"
      ],
      "metadata": {
        "colab": {
          "base_uri": "https://localhost:8080/"
        },
        "id": "54tncmD-yTP3",
        "outputId": "15a1fe43-b64a-4617-f74f-6245ebb6e02d"
      },
      "execution_count": 2,
      "outputs": [
        {
          "output_type": "stream",
          "name": "stdout",
          "text": [
            "Vacuum Cleaner\n",
            "Initial State: Room A [1, 1] , Room B [0, 1]\n",
            "Vacuum cleaner moved to room B. Room A cleaned.\n",
            "Vacuum cleaner moved to room A. Room B cleaned.\n",
            "Final State: Room A [1, 0] , Room B [0, 0]\n"
          ]
        }
      ]
    }
  ]
}